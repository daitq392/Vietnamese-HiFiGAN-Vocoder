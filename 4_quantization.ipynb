{
 "cells": [
  {
   "cell_type": "code",
   "execution_count": null,
   "metadata": {
    "_cell_guid": "b1076dfc-b9ad-4769-8c92-a6c4dae69d19",
    "_uuid": "8f2839f25d086af736a60e9eeb907d3b93b6e0e5",
    "execution": {
     "iopub.execute_input": "2025-03-10T20:22:18.164007Z",
     "iopub.status.busy": "2025-03-10T20:22:18.163662Z",
     "iopub.status.idle": "2025-03-10T20:25:23.014899Z",
     "shell.execute_reply": "2025-03-10T20:25:23.013587Z",
     "shell.execute_reply.started": "2025-03-10T20:22:18.163973Z"
    },
    "trusted": true
   },
   "outputs": [
    {
     "name": "stdout",
     "output_type": "stream",
     "text": [
      "Processed file /kaggle/input/features-ntt123/features/features_batch_1.npz\n",
      "Processed file /kaggle/input/features-ntt123/features/features_batch_15.npz\n",
      "Processed file /kaggle/input/features-ntt123/features/features_batch_6.npz\n",
      "Processed file /kaggle/input/features-ntt123/features/features_batch_9.npz\n",
      "Processed file /kaggle/input/features-ntt123/features/features_batch_12.npz\n",
      "Processed file /kaggle/input/features-ntt123/features/features_batch_3.npz\n",
      "Processed file /kaggle/input/features-ntt123/features/features_batch_7.npz\n",
      "Processed file /kaggle/input/features-ntt123/features/features_batch_2.npz\n",
      "Processed file /kaggle/input/features-ntt123/features/features_batch_13.npz\n",
      "Processed file /kaggle/input/features-ntt123/features/features_batch_8.npz\n",
      "Processed file /kaggle/input/features-ntt123/features/features_batch_14.npz\n",
      "Processed file /kaggle/input/features-ntt123/features/features_batch_10.npz\n",
      "Processed file /kaggle/input/features-ntt123/features/features_batch_5.npz\n",
      "Processed file /kaggle/input/features-ntt123/features/features_batch_11.npz\n",
      "Processed file /kaggle/input/features-ntt123/features/features_batch_4.npz\n",
      "Unit data saved to /kaggle/working/units.json\n"
     ]
    }
   ],
   "source": [
    "import numpy as np\n",
    "import joblib\n",
    "import os\n",
    "import json\n",
    "\n",
    "# Paths\n",
    "feature_dir = \"/kaggle/input/features-ntt123/features\"  # Directory containing feature batches\n",
    "kmeans_model_path = \"/kaggle/input/in4remodel/kmeans_model.joblib\"  # Path to the trained k-means model\n",
    "output_path = \"/kaggle/working/units.json\"  # Path to save the resulting JSON file\n",
    "\n",
    "# Load the trained k-means model\n",
    "kmeans = joblib.load(kmeans_model_path)\n",
    "\n",
    "unit_data = []\n",
    "feature_files = [os.path.join(feature_dir, f) for f in os.listdir(feature_dir) if f.endswith(\".npz\")]\n",
    "\n",
    "for feature_file in feature_files:\n",
    "    batch_data = np.load(feature_file, allow_pickle=True)\n",
    "\n",
    "    for key in batch_data:\n",
    "        entry = batch_data[key].item()  \n",
    "        features = entry[\"features\"]  \n",
    "        file_path = entry[\"path\"]  \n",
    "        duration = entry[\"duration\"]  \n",
    "\n",
    "        units = kmeans.predict(features)  \n",
    "\n",
    "        unit_data.append({\n",
    "            \"audio\": file_path, \n",
    "            \"duration\": duration,\n",
    "            \"codes\": \" \".join(map(str, units))\n",
    "        })\n",
    "\n",
    "    print(f\"Processed file {feature_file}\")\n",
    "\n",
    "# Save the result to a JSON file\n",
    "with open(output_path, \"w\") as json_file:\n",
    "    for entry in unit_data:\n",
    "        json_file.write(json.dumps(entry) + \"\\n\")\n",
    "\n",
    "print(f\"Unit data saved to {output_path}\")"
   ]
  },
  {
   "cell_type": "markdown",
   "metadata": {},
   "source": [
    "# Creating splits"
   ]
  },
  {
   "cell_type": "code",
   "execution_count": null,
   "metadata": {
    "execution": {
     "iopub.execute_input": "2025-03-10T20:29:33.128473Z",
     "iopub.status.busy": "2025-03-10T20:29:33.128002Z",
     "iopub.status.idle": "2025-03-10T20:29:33.459209Z",
     "shell.execute_reply": "2025-03-10T20:29:33.458131Z",
     "shell.execute_reply.started": "2025-03-10T20:29:33.128387Z"
    },
    "trusted": true
   },
   "outputs": [
    {
     "name": "stdout",
     "output_type": "stream",
     "text": [
      "Training data saved to /kaggle/working/train.txt (11868 lines)\n",
      "Validation data saved to /kaggle/working/val.txt (2967 lines)\n"
     ]
    }
   ],
   "source": [
    "import json\n",
    "import math\n",
    "\n",
    "# Paths\n",
    "input_path = \"/kaggle/input/in4remodel/units.json\"  \n",
    "train_output_path = \"/kaggle/working/train.txt\"  \n",
    "val_output_path = \"/kaggle/working/val.txt\"  \n",
    "\n",
    "with open(input_path, \"r\") as json_file:\n",
    "    lines = json_file.readlines()\n",
    "\n",
    "# Calculate split index\n",
    "total_lines = len(lines)\n",
    "train_size = math.floor(total_lines * 0.8)  # 80% for training\n",
    "\n",
    "train_lines = lines[:train_size]\n",
    "val_lines = lines[train_size:]\n",
    "\n",
    "with open(train_output_path, \"w\") as train_file:\n",
    "    train_file.writelines(train_lines)\n",
    "with open(val_output_path, \"w\") as val_file:\n",
    "    val_file.writelines(val_lines)\n",
    "\n",
    "print(f\"Training data saved to {train_output_path} ({len(train_lines)} lines)\")\n",
    "print(f\"Validation data saved to {val_output_path} ({len(val_lines)} lines)\")"
   ]
  }
 ],
 "metadata": {
  "kaggle": {
   "accelerator": "none",
   "dataSources": [
    {
     "datasetId": 6251651,
     "sourceId": 10985305,
     "sourceType": "datasetVersion"
    },
    {
     "datasetId": 6837136,
     "sourceId": 10985456,
     "sourceType": "datasetVersion"
    }
   ],
   "dockerImageVersionId": 30804,
   "isGpuEnabled": false,
   "isInternetEnabled": true,
   "language": "python",
   "sourceType": "notebook"
  },
  "kernelspec": {
   "display_name": "Python 3",
   "language": "python",
   "name": "python3"
  },
  "language_info": {
   "codemirror_mode": {
    "name": "ipython",
    "version": 3
   },
   "file_extension": ".py",
   "mimetype": "text/x-python",
   "name": "python",
   "nbconvert_exporter": "python",
   "pygments_lexer": "ipython3",
   "version": "3.10.14"
  }
 },
 "nbformat": 4,
 "nbformat_minor": 4
}
