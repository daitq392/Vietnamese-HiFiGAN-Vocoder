{
 "cells": [
  {
   "cell_type": "code",
   "execution_count": null,
   "metadata": {
    "_cell_guid": "b1076dfc-b9ad-4769-8c92-a6c4dae69d19",
    "_uuid": "8f2839f25d086af736a60e9eeb907d3b93b6e0e5",
    "execution": {
     "iopub.execute_input": "2025-03-12T13:31:36.366947Z",
     "iopub.status.busy": "2025-03-12T13:31:36.366704Z",
     "iopub.status.idle": "2025-03-12T13:31:40.610567Z",
     "shell.execute_reply": "2025-03-12T13:31:40.609396Z",
     "shell.execute_reply.started": "2025-03-12T13:31:36.366919Z"
    },
    "trusted": true
   },
   "outputs": [],
   "source": [
    "!git clone https://github.com/facebookresearch/speech-resynthesis.git\n",
    "%cd /kaggle/working/speech-resynthesis"
   ]
  },
  {
   "cell_type": "code",
   "execution_count": null,
   "metadata": {
    "execution": {
     "iopub.execute_input": "2025-03-12T13:31:40.612333Z",
     "iopub.status.busy": "2025-03-12T13:31:40.612080Z",
     "iopub.status.idle": "2025-03-12T13:31:54.437481Z",
     "shell.execute_reply": "2025-03-12T13:31:54.436216Z",
     "shell.execute_reply.started": "2025-03-12T13:31:40.612308Z"
    },
    "trusted": true
   },
   "outputs": [],
   "source": [
    "%%capture\n",
    "!pip install torch numpy librosa scipy tensorboard soundfile amfm_decompy matplotlib ffmpeg tqdm"
   ]
  },
  {
   "cell_type": "code",
   "execution_count": null,
   "metadata": {
    "execution": {
     "iopub.execute_input": "2025-03-12T13:31:54.439871Z",
     "iopub.status.busy": "2025-03-12T13:31:54.439565Z",
     "iopub.status.idle": "2025-03-12T13:32:15.504980Z",
     "shell.execute_reply": "2025-03-12T13:32:15.504091Z",
     "shell.execute_reply.started": "2025-03-12T13:31:54.439842Z"
    },
    "trusted": true
   },
   "outputs": [],
   "source": [
    "!python -m examples.speech_to_speech_translation.inference \\\n",
    "    --checkpoint_file /kaggle/input/vocoderpavoice/speech-resynthesis/checkpoints/lj_hubert100_dur1.0 \\\n",
    "    -n 10 \\\n",
    "    --output_dir generations \\\n",
    "    --num-gpu 1 \\\n",
    "    --input_code_file /kaggle/input/in4remodel/val.txt \\\n",
    "    --dur-prediction"
   ]
  },
  {
   "cell_type": "code",
   "execution_count": null,
   "metadata": {
    "execution": {
     "iopub.execute_input": "2025-03-12T13:34:26.207814Z",
     "iopub.status.busy": "2025-03-12T13:34:26.207040Z",
     "iopub.status.idle": "2025-03-12T13:34:26.219037Z",
     "shell.execute_reply": "2025-03-12T13:34:26.218212Z",
     "shell.execute_reply.started": "2025-03-12T13:34:26.207778Z"
    },
    "trusted": true
   },
   "outputs": [],
   "source": [
    "from IPython.display import Audio\n",
    "\n",
    "audio_file = \"/kaggle/working/speech-resynthesis/generations/14528_gen.wav\"  \n",
    "\n",
    "# Play the audio\n",
    "Audio(audio_file)"
   ]
  }
 ],
 "metadata": {
  "kaggle": {
   "accelerator": "gpu",
   "dataSources": [
    {
     "datasetId": 6747082,
     "sourceId": 10861247,
     "sourceType": "datasetVersion"
    },
    {
     "datasetId": 6255159,
     "sourceId": 10922987,
     "sourceType": "datasetVersion"
    },
    {
     "datasetId": 6835843,
     "sourceId": 10983674,
     "sourceType": "datasetVersion"
    },
    {
     "datasetId": 6837136,
     "sourceId": 10985503,
     "sourceType": "datasetVersion"
    },
    {
     "datasetId": 6750131,
     "sourceId": 11007401,
     "sourceType": "datasetVersion"
    }
   ],
   "dockerImageVersionId": 30805,
   "isGpuEnabled": true,
   "isInternetEnabled": true,
   "language": "python",
   "sourceType": "notebook"
  },
  "kernelspec": {
   "display_name": "Python 3",
   "language": "python",
   "name": "python3"
  },
  "language_info": {
   "codemirror_mode": {
    "name": "ipython",
    "version": 3
   },
   "file_extension": ".py",
   "mimetype": "text/x-python",
   "name": "python",
   "nbconvert_exporter": "python",
   "pygments_lexer": "ipython3",
   "version": "3.10.14"
  }
 },
 "nbformat": 4,
 "nbformat_minor": 4
}
