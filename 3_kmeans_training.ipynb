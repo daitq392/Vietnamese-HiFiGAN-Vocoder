{
 "cells": [
  {
   "cell_type": "code",
   "execution_count": null,
   "metadata": {
    "_cell_guid": "b1076dfc-b9ad-4769-8c92-a6c4dae69d19",
    "_uuid": "8f2839f25d086af736a60e9eeb907d3b93b6e0e5",
    "execution": {
     "iopub.execute_input": "2025-03-10T20:09:42.142255Z",
     "iopub.status.busy": "2025-03-10T20:09:42.141944Z",
     "iopub.status.idle": "2025-03-10T20:15:30.657085Z",
     "shell.execute_reply": "2025-03-10T20:15:30.654246Z",
     "shell.execute_reply.started": "2025-03-10T20:09:42.142222Z"
    },
    "trusted": true
   },
   "outputs": [
    {
     "name": "stderr",
     "output_type": "stream",
     "text": [
      "/opt/conda/lib/python3.10/site-packages/sklearn/cluster/_kmeans.py:870: FutureWarning: The default value of `n_init` will change from 3 to 'auto' in 1.4. Set the value of `n_init` explicitly to suppress the warning\n",
      "  warnings.warn(\n"
     ]
    },
    {
     "name": "stdout",
     "output_type": "stream",
     "text": [
      "Processed file /kaggle/input/features-ntt123/features/features_batch_1.npz\n",
      "Processed file /kaggle/input/features-ntt123/features/features_batch_15.npz\n",
      "Processed file /kaggle/input/features-ntt123/features/features_batch_6.npz\n",
      "Processed file /kaggle/input/features-ntt123/features/features_batch_9.npz\n",
      "Processed file /kaggle/input/features-ntt123/features/features_batch_12.npz\n",
      "Processed file /kaggle/input/features-ntt123/features/features_batch_3.npz\n",
      "Processed file /kaggle/input/features-ntt123/features/features_batch_7.npz\n",
      "Processed file /kaggle/input/features-ntt123/features/features_batch_2.npz\n",
      "Processed file /kaggle/input/features-ntt123/features/features_batch_13.npz\n",
      "Processed file /kaggle/input/features-ntt123/features/features_batch_8.npz\n",
      "Processed file /kaggle/input/features-ntt123/features/features_batch_14.npz\n",
      "Processed file /kaggle/input/features-ntt123/features/features_batch_10.npz\n",
      "Processed file /kaggle/input/features-ntt123/features/features_batch_5.npz\n",
      "Processed file /kaggle/input/features-ntt123/features/features_batch_11.npz\n",
      "Processed file /kaggle/input/features-ntt123/features/features_batch_4.npz\n",
      "KMeans model saved at /kaggle/working/kmeans_model.joblib\n"
     ]
    }
   ],
   "source": [
    "import numpy as np\n",
    "from sklearn.cluster import MiniBatchKMeans\n",
    "import os\n",
    "import joblib\n",
    "\n",
    "feature_dir = \"/kaggle/input/features-ntt123/features\"  # Directory containing feature batches\n",
    "num_clusters = 100  # Number of clusters for k-means\n",
    "batch_size = 500  # Batch size for MiniBatchKMeans\n",
    "\n",
    "kmeans = MiniBatchKMeans(n_clusters=num_clusters, random_state=42, batch_size=batch_size)\n",
    "\n",
    "feature_files = [os.path.join(feature_dir, f) for f in os.listdir(feature_dir) if f.endswith(\".npz\")]\n",
    "\n",
    "for feature_file in feature_files:\n",
    "    batch_data = np.load(feature_file, allow_pickle=True)\n",
    "    for key in batch_data:\n",
    "        entry = batch_data[key].item() \n",
    "        features = entry[\"features\"]  \n",
    "        kmeans.partial_fit(features)\n",
    "    \n",
    "    print(f\"Processed file {feature_file}\")\n",
    "\n",
    "# Save the trained model\n",
    "kmeans_model_path = \"/kaggle/working/kmeans_model.joblib\"\n",
    "joblib.dump(kmeans, kmeans_model_path)\n",
    "print(f\"KMeans model saved at {kmeans_model_path}\")\n"
   ]
  }
 ],
 "metadata": {
  "kaggle": {
   "accelerator": "none",
   "dataSources": [
    {
     "datasetId": 6251651,
     "sourceId": 10985305,
     "sourceType": "datasetVersion"
    }
   ],
   "dockerImageVersionId": 30804,
   "isGpuEnabled": false,
   "isInternetEnabled": true,
   "language": "python",
   "sourceType": "notebook"
  },
  "kernelspec": {
   "display_name": "Python 3",
   "language": "python",
   "name": "python3"
  },
  "language_info": {
   "codemirror_mode": {
    "name": "ipython",
    "version": 3
   },
   "file_extension": ".py",
   "mimetype": "text/x-python",
   "name": "python",
   "nbconvert_exporter": "python",
   "pygments_lexer": "ipython3",
   "version": "3.10.14"
  }
 },
 "nbformat": 4,
 "nbformat_minor": 4
}
